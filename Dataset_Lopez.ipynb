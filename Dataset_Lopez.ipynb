{
  "nbformat": 4,
  "nbformat_minor": 0,
  "metadata": {
    "colab": {
      "provenance": []
    },
    "kernelspec": {
      "name": "python3",
      "display_name": "Python 3"
    },
    "language_info": {
      "name": "python"
    }
  },
  "cells": [
    {
      "cell_type": "markdown",
      "source": [
        "**Dataset 1: Loan_Default**\n",
        "\n",
        "\n",
        "---\n",
        "\n"
      ],
      "metadata": {
        "id": "y1VUfiWxOYma"
      }
    },
    {
      "cell_type": "markdown",
      "source": [
        "\n",
        "✅**Tematica elegida:** Loan Default o el incumplimiento de prestamos bancarios\n",
        "\n",
        "\n",
        "⭐ **Variables objetivo:**  Default (si/no) \"loan_status\" o \"status\". En dataset muestra uan variable binaria 1 o 0. A determinar que representa cada uno.\n",
        "\n",
        "\n",
        "**Objetivo final**: determinar los factores asociados a que un prestamo termine en incumplimiento o no. Esto resulta de vital importancia para cualquier institucion financiera para evaluar el riesgo crediticio de futuros solicitantes.\n",
        "\n",
        "📚 Este dataset contiene información histórica sobre préstamos otorgados a clientes. En cuanto al contexto, por el tipo de variables utilizadas puede inducirse que se trata de una base de datos de Estados Unidos, 2019.\n",
        "\n",
        "\n",
        "**Variable interesantes**:\n",
        "Utiles para determinar si existen patrones asociados al incumplimiento de los prestamos.\n",
        "\n",
        "- loan_amount: monto del prestamo\n",
        "- term: duracion del prestamo\n",
        "- ineret_rate: tasa de interes\n",
        "- installement: cuotas o monto a pagar mensualmente\n",
        "- grade: puntuacion basada en el riesgo crediticio del prestamo\n",
        "- employment_lenght:numeros de anios empleado del cliente\n",
        "- annual_income: ingreso anual del cliente\n",
        "- open_acc: numero de cuentas crditicias abiertas\n",
        "- debt_to_income:(DTI) ratiop deuda-ingresos\n",
        "- fisco_range_low: limite inferior del puntaje FICO del cliente\n",
        "\n",
        "(El FICO Score es un sistema de puntaje crediticio común en EE.UU., que va generalmente de 300 a 850. A mas alto valor, mejor historial crediticio)\n",
        "\n",
        "- pub_rec: numero de registros publicos negativos (derogatorios). A mayor numero, mayor riesgo crediticio, lo ideal es cero.\n",
        "- revol_util: porcentaje de uso del credito rotativo\n",
        "- status: estado del prestamo (pagado o en incumplimiento)\n",
        "\n",
        "\n",
        "**Fuente:** Kaggle  by Yasser H\n",
        "\n",
        "**Archivo:** Loan_Default.csv.zip (subido a GitHub)\n"
      ],
      "metadata": {
        "id": "PoW6dvN5OXlz"
      }
    },
    {
      "cell_type": "code",
      "source": [
        "import pandas as pd\n",
        "import zipfile\n",
        "import io\n",
        "import requests\n",
        "\n",
        "#URL del dataframe cargado en Github\n",
        "url = \"https://raw.githubusercontent.com/Florencia-Lopez/Data-Science-I/main/Loan_Default.csv.zip\"\n",
        "\n",
        "#print(\"Request esta instalado\")\n",
        "\n",
        "#Descargar el archivo zip\n",
        "\n",
        "response = requests.get(url)\n",
        "with open(\"Loan_Default.csv.zip\", \"wb\") as f:\n",
        "    f.write(response.content)\n",
        "\n",
        "#Para abrir el archivos csv en zip\n",
        "\n",
        "with zipfile.ZipFile (\"Loan_Default.csv.zip\", \"r\") as zip_ref:\n",
        "    print(\"Archivos en el zip:\", zip_ref.namelist())\n",
        "    with zip_ref.open(\"Loan_Default.csv\") as file:\n",
        "        df = pd.read_csv(file)\n"
      ],
      "metadata": {
        "id": "xUfTpStd9Yvr",
        "colab": {
          "base_uri": "https://localhost:8080/"
        },
        "outputId": "cf94112d-6526-40d4-a86b-e8d047fb1c0d"
      },
      "execution_count": null,
      "outputs": [
        {
          "output_type": "stream",
          "name": "stdout",
          "text": [
            "Archivos en el zip: ['Loan_Default.csv', '__MACOSX/._Loan_Default.csv']\n",
            "(148670, 34)\n"
          ]
        }
      ]
    },
    {
      "cell_type": "code",
      "source": [
        "#Empezar a ver data o info del dataset\n",
        "\n",
        "#Para ver cantidad de filas y columnas:\n",
        "print(df.shape)\n",
        "\n",
        "#Para ver que tipos de datos tiene:\n",
        "#print(df.types)\n",
        "\n",
        "#Para ver nombre d elas columnas o variables:\n",
        "#print(df.columns)\n",
        "\n",
        "#Para ver cinco primeras filas:\n",
        "#print(df.head)\n",
        "\n",
        "# Para ver tipos de datos:\n",
        "#print(df_info)\n",
        "\n",
        "# Estadísticas numéricas:\n",
        "df.describe()\n",
        "\n",
        "# Valores nulos:\n",
        "df.isnull().sum()\n",
        "\n",
        "# Distribución de la variable objetivo:\n",
        "#df['Status'].value_counts()"
      ],
      "metadata": {
        "id": "yFKMHJ2RWavS"
      },
      "execution_count": null,
      "outputs": []
    },
    {
      "cell_type": "markdown",
      "source": [
        "\n",
        "\n",
        "---\n",
        "\n"
      ],
      "metadata": {
        "id": "SShm3KS2k1bj"
      }
    },
    {
      "cell_type": "markdown",
      "source": [
        "**Data set 2: Personal_Loans**"
      ],
      "metadata": {
        "id": "jTH2LLsAk55B"
      }
    },
    {
      "cell_type": "markdown",
      "source": [
        "\n",
        "\n",
        "---\n",
        "\n"
      ],
      "metadata": {
        "id": "5MsKzOpjPKNO"
      }
    },
    {
      "cell_type": "markdown",
      "source": [
        "✅**Tematica elegida:** Personal Loans o prestamos personales\n",
        "\n",
        "⭐ **Variable objetivo**: Personal Loan (si/no). Es una variable binaria (0,1) que nos indica si el cliente acepto o no el prestamo ofrecido.\n",
        "\n",
        "**Objetivo final**: El objetivo principal es analizar que caracteristicas estan asociadas con la aceptacion o no de un prestamo personal por parte del cliente, es decir , que tipos de clientes estan mas propensos a aceptar ofertas crediticias del banco.\n",
        "\n",
        "Puede servir al banco para mejorar campañas de marketing, predecir comportamientos o personalizar ofertas.\n",
        "\n",
        "📚**Contexto**: Este dataset contiene informacion de clientes actuales de un banco, con diferentes variables demograficas, financieras y de comportamiento.\n",
        "\n",
        "**Variables interesantes**:\n",
        "\n",
        "*   Income: ingreso del cliente puede indicar capacidad de pago y nivel socioeconoico\n",
        "*   Age: edad del cliente\n",
        "- Education: nivel educativo puede estar relacionado con el conocimiento financiero\n",
        "- CCAvg: El gasto promedio mensual con tarjeta de credito puede reflejar el estilo de vida y el uso del credito\n",
        "- Mortgage: La existencia de una hipoteca podria influir en la necesidad o capacidad de asumir mas deuda\n",
        "- Credit Card: Tarjetas de credito\n",
        "- Online: El uso de las plataformas digitales del banco. Puede ser un indicativo del uso de los productos bancarios\n",
        "\n",
        "\n",
        "\n",
        "Fuente: Kaggle by Kranti Walke\n",
        "\n",
        "Archivo: Personal_Loans.csv (subido a GitHub)"
      ],
      "metadata": {
        "id": "vLBS1i6GGbGI"
      }
    },
    {
      "cell_type": "code",
      "source": [
        "import pandas as pd\n",
        "import requests\n",
        "\n",
        "url = \"https://raw.githubusercontent.com/Florencia-Lopez/Data-Science-I/main/Personal_Loans.csv\"\n",
        "\n",
        "response = requests.get(url)\n",
        "with open(\"Personal_Loans.csv\", \"wb\") as f:\n",
        "    f.write(response.content)\n",
        "\n",
        "df = pd.read_csv(\"Personal_Loans.csv\")\n",
        "\n",
        "print(df.shape)\n",
        "print(df.columns)"
      ],
      "metadata": {
        "colab": {
          "base_uri": "https://localhost:8080/"
        },
        "id": "HBwkMyYHk_Lm",
        "outputId": "68f6412d-4efe-4cc6-9c79-c7b2aa81218a"
      },
      "execution_count": 6,
      "outputs": [
        {
          "output_type": "stream",
          "name": "stdout",
          "text": [
            "(5000, 14)\n",
            "Index(['ID', 'Age', 'Experience', 'Income', 'ZIP Code', 'Family', 'CCAvg',\n",
            "       'Education', 'Mortgage', 'Personal Loan', 'Securities Account',\n",
            "       'CD Account', 'Online', 'CreditCard'],\n",
            "      dtype='object')\n"
          ]
        }
      ]
    },
    {
      "cell_type": "markdown",
      "source": [
        "\n",
        "\n",
        "---\n",
        "\n"
      ],
      "metadata": {
        "id": "1QNRIiDyBufY"
      }
    },
    {
      "cell_type": "markdown",
      "source": [
        "**Dataset 3: LoanDataset**"
      ],
      "metadata": {
        "id": "NqkSoQfsII8i"
      }
    },
    {
      "cell_type": "markdown",
      "source": [
        "\n",
        "-----"
      ],
      "metadata": {
        "id": "HA2NBgC5PRha"
      }
    },
    {
      "cell_type": "markdown",
      "source": [
        "✅T**ematica elegida:** Default crediticio en prestamos personales\n",
        "\n",
        "⭐ **Variable objetivo:** Current_Loan_Status (Default/No Default).\n",
        "\n",
        "**Objetivo final**:Explicar o predecir que factores estan asociados al default o falta de pago de prestamos personales.\n",
        "\n",
        "📚Contexto: Este dataset contiene informacion sobre prestamos de clientes, incluyendo datos demograficos, detalles del préstamo y estado de incumplimiento.\n",
        "Este analisis puede ser util para entender los perfiles de clientes que tienden a cumplir con sus prestamos, y puede ayudar a predecir el estado futuro de nuevos préetamos.\n",
        "\n",
        "Variables interesantes:\n",
        "- customer_age: edad del cliente\n",
        "- customer_income: ingreso anual del cliente\n",
        "home_ownership: Home ownership status (e.g., RENT, OWN, MORTGAGE)\n",
        "- loan_intent: objetivo del prestamo (e.g., PERSONAL, EDUCATION, MEDICAL, VENTURE)\n",
        "- loan_amnt: Lsuma total del prestamo\n",
        "- loan_int_rate: tasa de interes del prestamo\n",
        "- term_years: periodo del prestamo en años\n",
        "- historical_default: indica si el cliente has tenido historia de incumplimiento (Y/N)\n",
        "- cred_hist_length: duracion del historial crediticio del cliente en años\n",
        "\n",
        "\n",
        "Fuente: Kaggle by Raushan\n",
        "\n",
        "Archivo: LoanDataset.csv (subido a GitHub)"
      ],
      "metadata": {
        "id": "eX911VILO6es"
      }
    },
    {
      "cell_type": "code",
      "source": [
        "import pandas as pd\n",
        "import requests\n",
        "\n",
        "url = \"https://raw.githubusercontent.com/Florencia-Lopez/Data-Science-I/main/LoanDataset.csv\"\n",
        "\n",
        "response = requests.get(url)\n",
        "with open (\"LoanDataset.csv\", \"wb\") as f:\n",
        "  f.write(response.content)\n",
        "\n",
        "df = pd.read_csv(\"LoanDataset.csv\")\n",
        "\n",
        "print(df.shape)\n",
        "print(df.columns)"
      ],
      "metadata": {
        "colab": {
          "base_uri": "https://localhost:8080/"
        },
        "id": "0S2xe3mUBvvz",
        "outputId": "a5a5b59a-7265-413b-d598-d8578c468f8e"
      },
      "execution_count": 10,
      "outputs": [
        {
          "output_type": "stream",
          "name": "stdout",
          "text": [
            "(32586, 13)\n",
            "Index(['customer_id', 'customer_age', 'customer_income', 'home_ownership',\n",
            "       'employment_duration', 'loan_intent', 'loan_grade', 'loan_amnt',\n",
            "       'loan_int_rate', 'term_years', 'historical_default', 'cred_hist_length',\n",
            "       'Current_loan_status'],\n",
            "      dtype='object')\n"
          ]
        }
      ]
    }
  ]
}